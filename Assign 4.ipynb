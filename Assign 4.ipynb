{
 "cells": [
  {
   "cell_type": "code",
   "execution_count": 20,
   "id": "9d804972-fc64-4040-b1f8-fe42b5284b1d",
   "metadata": {},
   "outputs": [
    {
     "name": "stdout",
     "output_type": "stream",
     "text": [
      "original list of tuple\n",
      "[('Virat Kohli', 24936), ('Jack Kallis', 25534), ('Ricky Ponting', 27483), ('Sachin Tendulkar', 34357)]\n",
      "\n",
      "sorting the list of tuple\n",
      "[('Virat Kohli', 24936), ('Jack Kallis', 25534), ('Ricky Ponting', 27483), ('Sachin Tendulkar', 34357)]\n"
     ]
    }
   ],
   "source": [
    "list1 = [('Sachin Tendulkar', 34357), ('Ricky Ponting', 27483), ('Jack Kallis', 25534), ('Virat Kohli', 24936)]\n",
    "print (\"original list of tuple\")\n",
    "print(list)\n",
    "list.sort(key = lambda x : x[1])\n",
    "print(\"\\nsorting the list of tuple\")\n",
    "print(list)"
   ]
  },
  {
   "cell_type": "code",
   "execution_count": null,
   "id": "311126d7-e189-4019-8789-d66b26b65d16",
   "metadata": {},
   "outputs": [],
   "source": []
  },
  {
   "cell_type": "code",
   "execution_count": 43,
   "id": "9c2e79ed-5348-477f-bd1f-b9520bbd5df2",
   "metadata": {},
   "outputs": [
    {
     "name": "stdout",
     "output_type": "stream",
     "text": [
      "original list of integers\n",
      "[1, 2, 3, 4, 5, 6, 7, 8, 9, 10]\n",
      "\n",
      " square every num of said list:\n",
      "<map object at 0x7fb2940c9840>\n"
     ]
    }
   ],
   "source": [
    "nums = [1, 2, 3, 4, 5, 6, 7, 8, 9, 10]\n",
    "print(\"original list of integers\")\n",
    "print(nums)\n",
    "print(\"\\n square every num of said list:\")\n",
    "square_nums = map(lambda x : x**2, nums)\n",
    "print(square_nums)\n"
   ]
  },
  {
   "cell_type": "code",
   "execution_count": 51,
   "id": "e51fc1fe-83c0-4b3a-8ddf-b7961c819e7f",
   "metadata": {},
   "outputs": [
    {
     "name": "stdout",
     "output_type": "stream",
     "text": [
      "[1, 2, 3, 4, 5, 6, 7, 8, 9, 10]\n",
      "<map object at 0x7fb29639ac80>\n"
     ]
    }
   ],
   "source": [
    "integer = [1, 2, 3, 4, 5, 6, 7, 8, 9, 10]\n",
    "print(integer)\n",
    "result_string = map(str,integer)\n",
    "print(result_string)\n",
    "\n"
   ]
  },
  {
   "cell_type": "code",
   "execution_count": null,
   "id": "0b70e19d-d081-4f7b-a977-2c012c5d4960",
   "metadata": {},
   "outputs": [],
   "source": []
  },
  {
   "cell_type": "code",
   "execution_count": null,
   "id": "17b642e0-eedb-47ca-8aec-23179a749ce7",
   "metadata": {},
   "outputs": [],
   "source": []
  }
 ],
 "metadata": {
  "kernelspec": {
   "display_name": "Python 3 (ipykernel)",
   "language": "python",
   "name": "python3"
  },
  "language_info": {
   "codemirror_mode": {
    "name": "ipython",
    "version": 3
   },
   "file_extension": ".py",
   "mimetype": "text/x-python",
   "name": "python",
   "nbconvert_exporter": "python",
   "pygments_lexer": "ipython3",
   "version": "3.10.8"
  }
 },
 "nbformat": 4,
 "nbformat_minor": 5
}
